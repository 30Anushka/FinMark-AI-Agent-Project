{
 "cells": [
  {
   "cell_type": "code",
   "id": "initial_id",
   "metadata": {
    "collapsed": true,
    "ExecuteTime": {
     "end_time": "2025-10-09T17:12:46.479161Z",
     "start_time": "2025-10-09T17:12:44.961371Z"
    }
   },
   "source": [
    "# financial_behavior_simulation.py\n",
    "import pandas as pd\n",
    "import numpy as np\n",
    "import os\n",
    "import random\n",
    "\n",
    "# ---------- Setup ----------\n",
    "DOWNLOADS_DIR = os.path.join(os.path.expanduser(\"~\"), \"Downloads\", \"synthetic_data\")\n",
    "CUSTOMERS_PATH = os.path.join(DOWNLOADS_DIR, \"customers_hma_10000.csv\")  # or customers_ctgan_10000.csv\n",
    "\n",
    "# Load customer data\n",
    "customers = pd.read_csv(CUSTOMERS_PATH)\n",
    "customers = customers.head(5000)  # for testing; remove limit for full run\n",
    "\n",
    "# Personas\n",
    "personas = ['Saver', 'Spender', 'Investor', 'Risk-Taker']\n",
    "customers['persona'] = np.random.choice(personas, size=len(customers))\n",
    "\n",
    "# Simulation parameters\n",
    "n_months = 12\n",
    "records = []\n",
    "\n",
    "for _, row in customers.iterrows():\n",
    "    cust_id = row['customer_id']\n",
    "    income_base = row['income'] / 12 if 'income' in row else np.random.randint(30000, 120000)\n",
    "    balance = row.get('account_balance', np.random.randint(20000, 100000))\n",
    "    persona = row['persona']\n",
    "\n",
    "    for month in range(1, n_months + 1):\n",
    "        # Income varies slightly each month\n",
    "        income = income_base * np.random.uniform(0.9, 1.1)\n",
    "\n",
    "        # Persona-based spending pattern\n",
    "        if persona == 'Saver':\n",
    "            spending = income * np.random.uniform(0.3, 0.5)\n",
    "            investment = income * np.random.uniform(0.1, 0.2)\n",
    "        elif persona == 'Spender':\n",
    "            spending = income * np.random.uniform(0.7, 0.9)\n",
    "            investment = income * np.random.uniform(0.0, 0.05)\n",
    "        elif persona == 'Investor':\n",
    "            spending = income * np.random.uniform(0.5, 0.7)\n",
    "            investment = income * np.random.uniform(0.2, 0.3)\n",
    "        else:  # Risk-Taker\n",
    "            spending = income * np.random.uniform(0.4, 0.9)\n",
    "            investment = income * np.random.uniform(0.0, 0.4)\n",
    "\n",
    "        # Loan repayment (if they have an existing loan)\n",
    "        loan_repayment = 0\n",
    "        if 'existing_loan_balance' in row and row['existing_loan_balance'] > 0:\n",
    "            loan_repayment = min(row['existing_loan_balance'] / 120, income * 0.15)  # monthly EMI\n",
    "\n",
    "        # Savings = income - total expenses\n",
    "        savings = income - (spending + investment + loan_repayment)\n",
    "        balance += savings\n",
    "\n",
    "        # Save monthly record\n",
    "        records.append({\n",
    "            'customer_id': cust_id,\n",
    "            'month': month,\n",
    "            'persona': persona,\n",
    "            'income': round(income, 2),\n",
    "            'spending': round(spending, 2),\n",
    "            'savings': round(savings, 2),\n",
    "            'investments': round(investment, 2),\n",
    "            'loan_repayment': round(loan_repayment, 2),\n",
    "            'balance': round(balance, 2)\n",
    "        })\n",
    "\n",
    "# ---------- Save ----------\n",
    "financial_behavior = pd.DataFrame(records)\n",
    "out_path = os.path.join(DOWNLOADS_DIR, \"financial_behavior.csv\")\n",
    "financial_behavior.to_csv(out_path, index=False)\n",
    "print(f\"✅ Financial behavior simulation complete! Saved at:\\n{out_path}\")"
   ],
   "outputs": [
    {
     "name": "stdout",
     "output_type": "stream",
     "text": [
      "✅ Financial behavior simulation complete! Saved at:\n",
      "C:\\Users\\user\\Downloads\\synthetic_data\\financial_behavior.csv\n"
     ]
    }
   ],
   "execution_count": 1
  },
  {
   "metadata": {},
   "cell_type": "code",
   "outputs": [],
   "execution_count": null,
   "source": "",
   "id": "fe8ab9e214c5023"
  }
 ],
 "metadata": {
  "kernelspec": {
   "display_name": "Python 3",
   "language": "python",
   "name": "python3"
  },
  "language_info": {
   "codemirror_mode": {
    "name": "ipython",
    "version": 2
   },
   "file_extension": ".py",
   "mimetype": "text/x-python",
   "name": "python",
   "nbconvert_exporter": "python",
   "pygments_lexer": "ipython2",
   "version": "2.7.6"
  }
 },
 "nbformat": 4,
 "nbformat_minor": 5
}
