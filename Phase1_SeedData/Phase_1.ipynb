{
 "cells": [
  {
   "metadata": {},
   "cell_type": "markdown",
   "source": [
    "# This is a sample Jupyter Notebook\n",
    "\n",
    "Below is an example of a code cell. \n",
    "Put your cursor into the cell and press Shift+Enter to execute it and select the next one, or click 'Run Cell' button.\n",
    "\n",
    "Press Double Shift to search everywhere for classes, files, tool windows, actions, and settings.\n",
    "\n",
    "To learn more about Jupyter Notebooks in PyCharm, see [help](https://www.jetbrains.com/help/pycharm/ipython-notebook-support.html).\n",
    "For an overview of PyCharm, go to Help -> Learn IDE features or refer to [our documentation](https://www.jetbrains.com/help/pycharm/getting-started.html)."
   ],
   "id": "8a77807f92f26ee"
  },
  {
   "metadata": {
    "ExecuteTime": {
     "end_time": "2025-10-03T16:52:57.943593Z",
     "start_time": "2025-10-03T16:52:55.338618Z"
    }
   },
   "cell_type": "code",
   "source": "pip install faker pandas numpy",
   "id": "e448a89f2b18da38",
   "outputs": [
    {
     "name": "stdout",
     "output_type": "stream",
     "text": [
      "Requirement already satisfied: faker in c:\\users\\user\\pycharmmiscproject\\.venv\\lib\\site-packages (37.8.0)\n",
      "Requirement already satisfied: pandas in c:\\users\\user\\pycharmmiscproject\\.venv\\lib\\site-packages (2.3.3)\n",
      "Requirement already satisfied: numpy in c:\\users\\user\\pycharmmiscproject\\.venv\\lib\\site-packages (2.3.3)\n",
      "Requirement already satisfied: tzdata in c:\\users\\user\\pycharmmiscproject\\.venv\\lib\\site-packages (from faker) (2025.2)\n",
      "Requirement already satisfied: python-dateutil>=2.8.2 in c:\\users\\user\\pycharmmiscproject\\.venv\\lib\\site-packages (from pandas) (2.9.0.post0)\n",
      "Requirement already satisfied: pytz>=2020.1 in c:\\users\\user\\pycharmmiscproject\\.venv\\lib\\site-packages (from pandas) (2025.2)\n",
      "Requirement already satisfied: six>=1.5 in c:\\users\\user\\pycharmmiscproject\\.venv\\lib\\site-packages (from python-dateutil>=2.8.2->pandas) (1.17.0)\n",
      "Note: you may need to restart the kernel to use updated packages.\n"
     ]
    },
    {
     "name": "stderr",
     "output_type": "stream",
     "text": [
      "\n",
      "[notice] A new release of pip is available: 25.0.1 -> 25.2\n",
      "[notice] To update, run: python.exe -m pip install --upgrade pip\n"
     ]
    }
   ],
   "execution_count": 3
  },
  {
   "metadata": {
    "ExecuteTime": {
     "end_time": "2025-10-03T16:57:59.116821Z",
     "start_time": "2025-10-03T16:57:57.265770Z"
    }
   },
   "cell_type": "code",
   "source": [
    "import pandas as pd\n",
    "import numpy as np\n",
    "from faker import Faker\n",
    "import random\n",
    "import os\n",
    "\n",
    "# Initialize Faker\n",
    "fake = Faker('en_IN')\n",
    "\n",
    "# Parameters\n",
    "n_customers = 2000\n",
    "job_roles = [\"Software Engineer\", \"Consultant\", \"Banker\", \"Designer\", \"Sales\", \"Data Scientist\", \"Product Manager\"]\n",
    "employment_types = [\"Salaried\", \"Contract\", \"Freelance\"]\n",
    "cities = [\"Mumbai\", \"Bengaluru\", \"Delhi\", \"Hyderabad\", \"Chennai\", \"Pune\", \"Gurugram\", \"Kolkata\"]\n",
    "\n",
    "# === Save directly to Downloads folder ===\n",
    "downloads_dir = os.path.join(os.path.expanduser(\"~\"), \"Downloads\", \"synthetic_data\")\n",
    "os.makedirs(downloads_dir, exist_ok=True)\n",
    "\n",
    "# Generate customer profiles\n",
    "customer_data = []\n",
    "for i in range(1, n_customers + 1):\n",
    "    age = random.randint(23, 40)\n",
    "    gender = random.choice([\"Male\", \"Female\", \"Non-binary\"])\n",
    "    city = random.choice(cities)\n",
    "    job = random.choice(job_roles)\n",
    "    employment_type = random.choice(employment_types)\n",
    "    income = random.randint(300000, 2000000)\n",
    "    credit_score = random.randint(300, 850)\n",
    "    savings_rate = round(random.uniform(0, 0.6), 2)\n",
    "    existing_loan_balance = random.choice([0, random.randint(50000, 1000000)])\n",
    "    account_balance = random.randint(1000, 500000)\n",
    "    joined_date = fake.date_between(start_date=\"-5y\", end_date=\"today\")\n",
    "\n",
    "    customer_data.append([\n",
    "        i, age, gender, city, job, employment_type, income,\n",
    "        credit_score, savings_rate, existing_loan_balance,\n",
    "        account_balance, joined_date\n",
    "    ])\n",
    "\n",
    "customers_df = pd.DataFrame(customer_data, columns=[\n",
    "    \"customer_id\", \"age\", \"gender\", \"city\", \"job_role\", \"employment_type\",\n",
    "    \"income\", \"credit_score\", \"savings_rate\", \"existing_loan_balance\",\n",
    "    \"account_balance\", \"joined_date\"\n",
    "])\n",
    "\n",
    "# Transactions\n",
    "transaction_categories = [\"Rent\", \"Groceries\", \"Entertainment\", \"Travel\", \"Investment\", \"Dining\"]\n",
    "transactions = []\n",
    "for cust_id in customers_df['customer_id']:\n",
    "    num_txns = random.randint(10, 50)\n",
    "    for _ in range(num_txns):\n",
    "        txn_date = fake.date_between(start_date=\"-1y\", end_date=\"today\")\n",
    "        category = random.choice(transaction_categories)\n",
    "        amount = round(random.uniform(500, 50000), 2)\n",
    "        transactions.append([cust_id, txn_date, category, amount])\n",
    "\n",
    "transactions_df = pd.DataFrame(transactions, columns=[\n",
    "    \"customer_id\", \"transaction_date\", \"category\", \"amount\"\n",
    "])\n",
    "\n",
    "# Campaign Events\n",
    "campaign_responses = [\"Opened\", \"Clicked\", \"Converted\", \"Ignored\"]\n",
    "campaigns = []\n",
    "for cust_id in customers_df['customer_id']:\n",
    "    num_events = random.randint(1, 5)\n",
    "    for _ in range(num_events):\n",
    "        event_date = fake.date_between(start_date=\"-6m\", end_date=\"today\")\n",
    "        response = random.choices(campaign_responses, weights=[0.4, 0.3, 0.2, 0.1])[0]\n",
    "        campaigns.append([cust_id, event_date, response])\n",
    "\n",
    "campaigns_df = pd.DataFrame(campaigns, columns=[\n",
    "    \"customer_id\", \"event_date\", \"response\"\n",
    "])\n",
    "\n",
    "# Save files in Downloads\n",
    "customers_file = os.path.join(downloads_dir, \"customers.csv\")\n",
    "transactions_file = os.path.join(downloads_dir, \"transactions.csv\")\n",
    "campaigns_file = os.path.join(downloads_dir, \"campaign_events.csv\")\n",
    "\n",
    "customers_df.to_csv(customers_file, index=False)\n",
    "transactions_df.to_csv(transactions_file, index=False)\n",
    "campaigns_df.to_csv(campaigns_file, index=False)\n",
    "\n",
    "print(f\"✅ Files saved in your Downloads folder: {downloads_dir}\")\n",
    "print(f\"- {customers_file}\")\n",
    "print(f\"- {transactions_file}\")\n",
    "print(f\"- {campaigns_file}\")"
   ],
   "id": "c477df0c19cc8151",
   "outputs": [
    {
     "name": "stdout",
     "output_type": "stream",
     "text": [
      "✅ Files saved in your Downloads folder: C:\\Users\\user\\Downloads\\synthetic_data\n",
      "- C:\\Users\\user\\Downloads\\synthetic_data\\customers.csv\n",
      "- C:\\Users\\user\\Downloads\\synthetic_data\\transactions.csv\n",
      "- C:\\Users\\user\\Downloads\\synthetic_data\\campaign_events.csv\n"
     ]
    }
   ],
   "execution_count": 5
  }
 ],
 "metadata": {
  "kernelspec": {
   "display_name": "Python 3",
   "language": "python",
   "name": "python3"
  },
  "language_info": {
   "codemirror_mode": {
    "name": "ipython",
    "version": 2
   },
   "file_extension": ".py",
   "mimetype": "text/x-python",
   "name": "python",
   "nbconvert_exporter": "python",
   "pygments_lexer": "ipython2",
   "version": "2.7.6"
  }
 },
 "nbformat": 4,
 "nbformat_minor": 5
}
